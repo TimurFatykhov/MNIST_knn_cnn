{
 "cells": [
  {
   "cell_type": "markdown",
   "metadata": {},
   "source": [
    "# <center> Классификация рукописных цифр\n",
    "## <center> MNIST\n",
    "<img src='./img/mnist_examples.png'>"
   ]
  },
  {
   "cell_type": "code",
   "execution_count": 1,
   "metadata": {
    "collapsed": true
   },
   "outputs": [],
   "source": [
    "import torch\n",
    "from source.network import NNClassifier\n",
    "from source.helpme import show_history\n",
    "from sklearn.datasets import load_digits\n",
    "import numpy as np"
   ]
  },
  {
   "cell_type": "markdown",
   "metadata": {},
   "source": [
    "# Полносвязная нейросеть (Fully connected neural network)"
   ]
  },
  {
   "cell_type": "code",
   "execution_count": 2,
   "metadata": {
    "collapsed": true
   },
   "outputs": [],
   "source": [
    "X, y = load_digits(return_X_y=True)"
   ]
  },
  {
   "cell_type": "code",
   "execution_count": 5,
   "metadata": {
    "collapsed": true
   },
   "outputs": [],
   "source": [
    "two_layer_net = torch.nn.Sequential(torch.nn.Linear(64, 10))"
   ]
  },
  {
   "cell_type": "markdown",
   "metadata": {},
   "source": [
    "<br>\n",
    "Используем класс NNClassifier, который имеет следующие методы:\n",
    "- **fit(X, y, epochs, batch_size, valid_data)** - обучает нейросеть\n",
    "- **predict_proba(X, batch_size)** - предсказывает вероятности\n",
    "- **predict(X, batch_size)** - предсказывает к какому классу относится каждый объект\n",
    "- **evaluate_score(X, y, batch_size)** - возвращает долю угаданных объектов\n",
    "- **loss(X, y, batch_size)** - рассчитывает ошибку\n",
    "<br>\n",
    "<br>\n",
    "<br>\n",
    "*batch_size* - это количество данных, которые нейросеть обрабатывает за один раз<br>\n",
    "*valid_data* - это данные для валидации работы нейросети"
   ]
  },
  {
   "cell_type": "code",
   "execution_count": 6,
   "metadata": {
    "collapsed": true
   },
   "outputs": [],
   "source": [
    "# создадим объект класса NNClassifier, передав архитектуру нейросети и learning rate (шаг обучения)\n",
    "\n",
    "model = NNClassifier(two_layer_net, lr=1e-3, device='cpu')"
   ]
  },
  {
   "cell_type": "code",
   "execution_count": 7,
   "metadata": {},
   "outputs": [
    {
     "data": {
      "application/vnd.jupyter.widget-view+json": {
       "model_id": "8a9b835396d5499e9f42451c4963d56c",
       "version_major": 2,
       "version_minor": 0
      },
      "text/plain": [
       "A Jupyter Widget"
      ]
     },
     "metadata": {},
     "output_type": "display_data"
    },
    {
     "name": "stdout",
     "output_type": "stream",
     "text": [
      "\n"
     ]
    }
   ],
   "source": [
    "# разделим выборку на трэин, валид, тест, обучим нейросеть\n",
    "X_train = X[:1200]\n",
    "y_train = y[:1200]\n",
    "\n",
    "X_valid = X[1200:1500]\n",
    "y_valid = y[1200:1500]\n",
    "\n",
    "X_test = X[1500:]\n",
    "y_test = y[1500:]\n",
    "\n",
    "model.fit(X_train, y_train, epochs=100, batch_size=256, \n",
    "          valid_data=(X_valid, y_valid))"
   ]
  },
  {
   "cell_type": "code",
   "execution_count": 9,
   "metadata": {},
   "outputs": [
    {
     "data": {
      "image/png": "[encoded data removed]",
      "text/plain": [
       "<Figure size 432x288 with 1 Axes>"
      ]
     },
     "metadata": {},
     "output_type": "display_data"
    }
   ],
   "source": [
    "# посмотрим на графики ошибок на тренировочной и валидационной частях\n",
    "\n",
    "show_history(model.train_history, model.valid_history)"
   ]
  },
  {
   "cell_type": "code",
   "execution_count": 10,
   "metadata": {},
   "outputs": [
    {
     "data": {
      "text/plain": [
       "0.8720538720538721"
      ]
     },
     "execution_count": 10,
     "metadata": {},
     "output_type": "execute_result"
    }
   ],
   "source": [
    "model.evaluate_score(X_test, y_test)"
   ]
  },
  {
   "cell_type": "markdown",
   "metadata": {},
   "source": [
    "## Полносвязная нейросеть своими руками"
   ]
  },
  {
   "cell_type": "code",
   "execution_count": null,
   "metadata": {
    "collapsed": true
   },
   "outputs": [],
   "source": []
  }
 ],
 "metadata": {
  "kernelspec": {
   "display_name": "Python 3",
   "language": "python",
   "name": "python3"
  },
  "language_info": {
   "codemirror_mode": {
    "name": "ipython",
    "version": 3
   },
   "file_extension": ".py",
   "mimetype": "text/x-python",
   "name": "python",
   "nbconvert_exporter": "python",
   "pygments_lexer": "ipython3",
   "version": "3.6.9"
  },
  "latex_envs": {
   "LaTeX_envs_menu_present": true,
   "autocomplete": true,
   "bibliofile": "biblio.bib",
   "cite_by": "apalike",
   "current_citInitial": 1,
   "eqLabelWithNumbers": true,
   "eqNumInitial": 1,
   "hotkeys": {
    "equation": "Ctrl-E",
    "itemize": "Ctrl-I"
   },
   "labels_anchors": false,
   "latex_user_defs": false,
   "report_style_numbering": false,
   "user_envs_cfg": false
  }
 },
 "nbformat": 4,
 "nbformat_minor": 2
}
