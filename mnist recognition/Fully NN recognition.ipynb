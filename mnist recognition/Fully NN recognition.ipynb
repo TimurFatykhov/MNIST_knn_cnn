{
 "cells": [
  {
   "cell_type": "markdown",
   "metadata": {},
   "source": [
    "# <center> Классификация рукописных цифр\n",
    "## <center> MNIST\n",
    "<img src='./img/mnist_examples.png'>"
   ]
  },
  {
   "cell_type": "code",
   "execution_count": null,
   "metadata": {},
   "outputs": [],
   "source": [
    "# импортируем требуемые библиотеки\n",
    "import matplotlib.pyplot as plt\n",
    "from sklearn.neighbors import KNeighborsClassifier\n",
    "from source.mnistloader import get_mnist_data\n",
    "import pickle\n",
    "\n",
    "import torch\n",
    "import matplotlib.pyplot as plt\n",
    "from source.torchutils import ModelWithAPI, Flatten, Softmax\n",
    "from source.mnistloader import create_mnist_loader\n",
    "from source.utils import plot_grid\n",
    "from albumentations import Compose, HorizontalFlip, Cutout, ShiftScaleRotate, ToGray, ToFloat, Transpose, PadIfNeeded, Resize\n",
    "from albumentations.pytorch import ToTensor\n",
    "import PIL\n",
    "import cv2\n",
    "import numpy as np"
   ]
  },
  {
   "cell_type": "code",
   "execution_count": null,
   "metadata": {},
   "outputs": [],
   "source": [
    "# выведем размер имеющейся выборки\n",
    "print('Размер обучающей выборки: %d изображений' % len(X_train))\n",
    "print('Размер тестовой выборки: %d изображений' % len(X_test))"
   ]
  },
  {
   "cell_type": "code",
   "execution_count": null,
   "metadata": {
    "collapsed": true
   },
   "outputs": [],
   "source": [
    "# создадим загрузчики данных\n",
    "# тут мы можем регулировать размер обучающей и тестовой выборки (параметр size можно менять)\n",
    "\n",
    "train_loader = create_mnist_loader(size=0.3)\n",
    "\n",
    "test_loader = create_mnist_loader(size=0.2,\n",
    "                                  train=False)"
   ]
  },
  {
   "cell_type": "code",
   "execution_count": null,
   "metadata": {
    "scrolled": true
   },
   "outputs": [],
   "source": [
    "# посмотрим как будут выглядят данные каждого класса\n",
    "plot_grid(train_loader.dataset.data, train_loader.dataset.targets, \n",
    "          class_num = 2,  # - какой класс показать \n",
    "          grid_size = 10) # - размер сетки"
   ]
  },
  {
   "cell_type": "code",
   "execution_count": null,
   "metadata": {
    "collapsed": true
   },
   "outputs": [],
   "source": [
    "# определим архитектуру нейросети\n",
    "\n",
    "conv_net = torch.nn.Sequential(torch.nn.Conv2d(in_channels=1, out_channels=16, kernel_size=3, stride=2, padding=3),\n",
    "                               torch.nn.ReLU(),\n",
    "                               torch.nn.BatchNorm2d(num_features=16),\n",
    "                               # 16x16x16\n",
    "                               \n",
    "                               torch.nn.Conv2d(16, 32, 3, stride=2, padding=1),\n",
    "                               torch.nn.ReLU(),\n",
    "                               torch.nn.BatchNorm2d(32),\n",
    "                               # 8x8x32\n",
    "                               \n",
    "                               torch.nn.Conv2d(32, 64, 3, stride=2, padding=1),\n",
    "                               torch.nn.ReLU(),\n",
    "                               torch.nn.BatchNorm2d(64),\n",
    "                               # 4x4x64\n",
    "                               \n",
    "                               torch.nn.Conv2d(64, 128, 3, stride=2, padding=1),\n",
    "                               torch.nn.ReLU(),\n",
    "                               torch.nn.BatchNorm2d(128),\n",
    "                               # 2x2x64\n",
    "                               \n",
    "                               Flatten(),\n",
    "                               torch.nn.Linear(512, 10), \n",
    "                               Softmax())\n",
    "\n",
    "# определим правило, по которому будем менять веса в нейросети\n",
    "optim = torch.optim.Adam(conv_net.parameters(), \n",
    "                         5e-3) # - шаг обучения\n",
    "\n",
    "# выберем функцию ошибки\n",
    "criterion = torch.nn.functional.cross_entropy"
   ]
  },
  {
   "cell_type": "code",
   "execution_count": null,
   "metadata": {
    "collapsed": true
   },
   "outputs": [],
   "source": [
    "# соберем нашу модель\n",
    "model = ModelWithAPI(conv_net, optim, criterion, device='cpu')"
   ]
  },
  {
   "cell_type": "code",
   "execution_count": null,
   "metadata": {},
   "outputs": [],
   "source": [
    "# и обучим ее\n",
    "train_history, val_history = model.fit_loader(train_loader,\n",
    "                                              val_loader=test_loader,\n",
    "                                              epochs=30,              # - количество эпох\n",
    "                                              lr_decay_every=10);     # - через сколько эпох будем уменьшать шаг"
   ]
  },
  {
   "cell_type": "code",
   "execution_count": null,
   "metadata": {
    "collapsed": true
   },
   "outputs": [],
   "source": [
    "%%time\n",
    "\n",
    "# посмотрим на процент правильно угаданных ответов в тестовой выборке, замерив время\n",
    "pred = model.evaluate_metrics_loader(test_loader)\n",
    "(pred == test_loader.dataset.targets).mean()"
   ]
  },
  {
   "cell_type": "code",
   "execution_count": null,
   "metadata": {
    "collapsed": true
   },
   "outputs": [],
   "source": [
    "# сохраним нашу модель\n",
    "torch.save(model.model, './cnn_model.pt') "
   ]
  },
  {
   "cell_type": "markdown",
   "metadata": {},
   "source": [
    "## Сверточная нейросеть своими руками"
   ]
  },
  {
   "cell_type": "code",
   "execution_count": null,
   "metadata": {
    "collapsed": true
   },
   "outputs": [],
   "source": []
  }
 ],
 "metadata": {
  "kernelspec": {
   "display_name": "Python 3",
   "language": "python",
   "name": "python3"
  },
  "language_info": {
   "codemirror_mode": {
    "name": "ipython",
    "version": 3
   },
   "file_extension": ".py",
   "mimetype": "text/x-python",
   "name": "python",
   "nbconvert_exporter": "python",
   "pygments_lexer": "ipython3",
   "version": "3.6.9"
  },
  "latex_envs": {
   "LaTeX_envs_menu_present": true,
   "autocomplete": true,
   "bibliofile": "biblio.bib",
   "cite_by": "apalike",
   "current_citInitial": 1,
   "eqLabelWithNumbers": true,
   "eqNumInitial": 1,
   "hotkeys": {
    "equation": "Ctrl-E",
    "itemize": "Ctrl-I"
   },
   "labels_anchors": false,
   "latex_user_defs": false,
   "report_style_numbering": false,
   "user_envs_cfg": false
  }
 },
 "nbformat": 4,
 "nbformat_minor": 2
}
